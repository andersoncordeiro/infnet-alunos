{
 "cells": [
  {
   "cell_type": "code",
   "execution_count": 23,
   "metadata": {},
   "outputs": [],
   "source": [
    "import pandas as pd\n",
    "import numpy as np\n",
    "import json"
   ]
  },
  {
   "cell_type": "code",
   "execution_count": 24,
   "metadata": {},
   "outputs": [],
   "source": [
    "def returnDict(str):\n",
    "    try:\n",
    "        return json.loads(str)\n",
    "    except:\n",
    "        return np.NaN"
   ]
  },
  {
   "cell_type": "code",
   "execution_count": 18,
   "metadata": {},
   "outputs": [],
   "source": [
    "df = pd.read_csv('../data/raw/imoveis.csv')"
   ]
  },
  {
   "cell_type": "code",
   "execution_count": 19,
   "metadata": {},
   "outputs": [],
   "source": [
    "limite = 40\n",
    "cols_remove = df.columns[df.isnull().sum() > limite]"
   ]
  },
  {
   "cell_type": "code",
   "execution_count": 20,
   "metadata": {},
   "outputs": [],
   "source": [
    "cols_remove = ['Unnamed: 0',\n",
    "              'displayId', \n",
    "               'cityId', \n",
    "               'photos', \n",
    "               'photosCategorizedByRooms', \n",
    "               'relevantRegions', \n",
    "               'photospheres',\n",
    "               'status',\n",
    "               'showUrlHasBeenCopiedSnackbar',\n",
    "               'isGalleryModalOpen',\n",
    "               'error',\n",
    "               'loaded',\n",
    "               'loading',\n",
    "               'loadingCategorizedRooms',\n",
    "               'selectedMedia',\n",
    "               'promotions',\n",
    "               'closingStatus',\n",
    "               'lastPublishedDate',\n",
    "               'listingPublication',\n",
    "               'forSale', \n",
    "               'forRent', \n",
    "               'salePrice', \n",
    "               'isPrimaryMarket', \n",
    "               'extraInfo', \n",
    "               'houseVisitStatus',\n",
    "               'visitsUnavailable',\n",
    "               'isReserved',\n",
    "               'allowDirectOffer',\n",
    "               'rentOnTermination',]"
   ]
  },
  {
   "cell_type": "code",
   "execution_count": 21,
   "metadata": {},
   "outputs": [],
   "source": [
    "df.drop(columns=cols_remove, inplace=True)"
   ]
  },
  {
   "cell_type": "code",
   "execution_count": 25,
   "metadata": {},
   "outputs": [],
   "source": [
    "df_macro = df['macroRegion'].str.replace('\\'','\"').apply(returnDict).apply(pd.Series)"
   ]
  },
  {
   "cell_type": "code",
   "execution_count": 27,
   "metadata": {},
   "outputs": [],
   "source": [
    "df = pd.concat([df, df_macro.add_prefix('macroRegion_')], axis=1)"
   ]
  },
  {
   "cell_type": "code",
   "execution_count": 30,
   "metadata": {},
   "outputs": [],
   "source": [
    "cols_remove = ['macroRegion_id', 'macroRegion', 'macroRegion_0']\n",
    "df.drop(columns=cols_remove, inplace=True)"
   ]
  },
  {
   "cell_type": "code",
   "execution_count": 38,
   "metadata": {},
   "outputs": [],
   "source": [
    "df = df[~(df['id'].isnull())]"
   ]
  },
  {
   "cell_type": "code",
   "execution_count": null,
   "metadata": {},
   "outputs": [],
   "source": [
    "df"
   ]
  },
  {
   "cell_type": "code",
   "execution_count": null,
   "metadata": {},
   "outputs": [],
   "source": []
  }
 ],
 "metadata": {
  "kernelspec": {
   "display_name": ".infnet",
   "language": "python",
   "name": "python3"
  },
  "language_info": {
   "codemirror_mode": {
    "name": "ipython",
    "version": 3
   },
   "file_extension": ".py",
   "mimetype": "text/x-python",
   "name": "python",
   "nbconvert_exporter": "python",
   "pygments_lexer": "ipython3",
   "version": "3.10.8 (main, Oct 12 2022, 19:14:09) [GCC 7.5.0]"
  },
  "orig_nbformat": 4,
  "vscode": {
   "interpreter": {
    "hash": "98fe36cd9225deb26acc2a71024400a0f0d59d4e3ec46e1600dfde3de45f12e8"
   }
  }
 },
 "nbformat": 4,
 "nbformat_minor": 2
}
